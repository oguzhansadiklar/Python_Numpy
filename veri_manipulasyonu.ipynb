{
 "cells": [
  {
   "cell_type": "markdown",
   "id": "aee7e999-1db9-4073-ad7b-a85015b9e9ba",
   "metadata": {},
   "source": [
    "# Numpy"
   ]
  },
  {
   "cell_type": "markdown",
   "id": "1a872e87-df46-49f7-8672-f363e236e553",
   "metadata": {},
   "source": [
    "## Numpy Array Oluşturmak"
   ]
  },
  {
   "cell_type": "code",
   "execution_count": 2,
   "id": "6c87747f-9fc1-40b7-8fc1-c5dceb666e8a",
   "metadata": {},
   "outputs": [],
   "source": [
    "import numpy as np"
   ]
  },
  {
   "cell_type": "code",
   "execution_count": 3,
   "id": "517adfab-c03a-42cc-a0a7-6a0e0bc10fb2",
   "metadata": {},
   "outputs": [
    {
     "data": {
      "text/plain": [
       "array([1, 2, 3, 4, 5])"
      ]
     },
     "execution_count": 3,
     "metadata": {},
     "output_type": "execute_result"
    }
   ],
   "source": [
    "np.array([1,2,3,4,5])"
   ]
  },
  {
   "cell_type": "code",
   "execution_count": 4,
   "id": "afea0470-d851-4ebc-a798-ef259d2aff90",
   "metadata": {},
   "outputs": [],
   "source": [
    "a = np.array([1,2,3,4,5])"
   ]
  },
  {
   "cell_type": "code",
   "execution_count": 5,
   "id": "1c151bb3-c22e-4416-a548-e9ca144c7296",
   "metadata": {},
   "outputs": [
    {
     "data": {
      "text/plain": [
       "numpy.ndarray"
      ]
     },
     "execution_count": 5,
     "metadata": {},
     "output_type": "execute_result"
    }
   ],
   "source": [
    "type(a)"
   ]
  },
  {
   "cell_type": "code",
   "execution_count": 6,
   "id": "cc6c0b5f-ce57-4ffc-8cb1-5efeec1765a8",
   "metadata": {},
   "outputs": [
    {
     "data": {
      "text/plain": [
       "array([ 5.5 ,  6.54,  6.  ,  2.  , 32.2 ])"
      ]
     },
     "execution_count": 6,
     "metadata": {},
     "output_type": "execute_result"
    }
   ],
   "source": [
    "np.array([5.5,6.54,6,2,32.2])"
   ]
  },
  {
   "cell_type": "code",
   "execution_count": 8,
   "id": "90c6407d-e420-4f13-9144-06a45b034cd5",
   "metadata": {},
   "outputs": [
    {
     "data": {
      "text/plain": [
       "array([ 5,  6,  6,  2, 32])"
      ]
     },
     "execution_count": 8,
     "metadata": {},
     "output_type": "execute_result"
    }
   ],
   "source": [
    "np.array([5.5,6.54,6,2,32.2],dtype=int)"
   ]
  },
  {
   "cell_type": "markdown",
   "id": "102eabeb-a906-4de8-85fc-038d6e94a4ad",
   "metadata": {},
   "source": [
    "# sıfırdan array oluşturma"
   ]
  },
  {
   "cell_type": "code",
   "execution_count": 11,
   "id": "17666477-7da4-4548-90e3-561e1533c636",
   "metadata": {},
   "outputs": [
    {
     "data": {
      "text/plain": [
       "array([0, 0, 0, 0, 0])"
      ]
     },
     "execution_count": 11,
     "metadata": {},
     "output_type": "execute_result"
    }
   ],
   "source": [
    "np.zeros(5, dtype=int)"
   ]
  },
  {
   "cell_type": "code",
   "execution_count": 13,
   "id": "4b88e01f-c614-4356-b826-72493d09a35a",
   "metadata": {},
   "outputs": [
    {
     "data": {
      "text/plain": [
       "array([[1, 1],\n",
       "       [1, 1],\n",
       "       [1, 1]])"
      ]
     },
     "execution_count": 13,
     "metadata": {},
     "output_type": "execute_result"
    }
   ],
   "source": [
    "np.ones((3,2), dtype=int)"
   ]
  },
  {
   "cell_type": "code",
   "execution_count": 14,
   "id": "ab987437-9c4f-4bda-9da2-5901f1c481f0",
   "metadata": {},
   "outputs": [
    {
     "data": {
      "text/plain": [
       "array([[3, 3],\n",
       "       [3, 3],\n",
       "       [3, 3]])"
      ]
     },
     "execution_count": 14,
     "metadata": {},
     "output_type": "execute_result"
    }
   ],
   "source": [
    "np.full((3,2),3)"
   ]
  },
  {
   "cell_type": "code",
   "execution_count": 15,
   "id": "77b7fe4a-8c21-45fc-b06e-1559e968f834",
   "metadata": {},
   "outputs": [
    {
     "data": {
      "text/plain": [
       "array([ 0,  2,  4,  6,  8, 10, 12, 14, 16, 18])"
      ]
     },
     "execution_count": 15,
     "metadata": {},
     "output_type": "execute_result"
    }
   ],
   "source": [
    "np.arange(0,20,2) #sıfırdan 20 ye kadar 2şerli sıralama"
   ]
  },
  {
   "cell_type": "code",
   "execution_count": 23,
   "id": "3a82c70d-a24e-48c2-99f2-2911dc0ded68",
   "metadata": {},
   "outputs": [
    {
     "data": {
      "text/plain": [
       "array([  0,  33,  66, 100])"
      ]
     },
     "execution_count": 23,
     "metadata": {},
     "output_type": "execute_result"
    }
   ],
   "source": [
    "np.linspace(0,100,4, dtype=int) # 0 ile 100 arasında eşit uzaklıkta 4 sayı oluşturma"
   ]
  },
  {
   "cell_type": "code",
   "execution_count": 24,
   "id": "e7e4ebfc-003c-45c6-af13-0c92d7894461",
   "metadata": {},
   "outputs": [
    {
     "data": {
      "text/plain": [
       "array([[ 8.33010283, 13.99218339],\n",
       "       [ 8.43989577,  9.7763669 ],\n",
       "       [ 2.5309348 , 11.69420055]])"
      ]
     },
     "execution_count": 24,
     "metadata": {},
     "output_type": "execute_result"
    }
   ],
   "source": [
    "np.random.normal(10 , 4 ,(3,2 )) #ortalama 10 standart sapması 4 arraylar oluşturma"
   ]
  },
  {
   "cell_type": "code",
   "execution_count": 30,
   "id": "c532a722-8da4-441c-8ef4-19519e2f75a0",
   "metadata": {},
   "outputs": [
    {
     "data": {
      "text/plain": [
       "array([[19, 10],\n",
       "       [ 0, 19],\n",
       "       [19, 13]])"
      ]
     },
     "execution_count": 30,
     "metadata": {},
     "output_type": "execute_result"
    }
   ],
   "source": [
    "np.random.randint(0,20,(3,2)) #sıfırdan 20 ye ratgele sayı üretme"
   ]
  },
  {
   "cell_type": "code",
   "execution_count": null,
   "id": "18172a29-00a9-4c63-9582-1ded74b5cb6e",
   "metadata": {},
   "outputs": [],
   "source": []
  }
 ],
 "metadata": {
  "kernelspec": {
   "display_name": "Python 3 (ipykernel)",
   "language": "python",
   "name": "python3"
  },
  "language_info": {
   "codemirror_mode": {
    "name": "ipython",
    "version": 3
   },
   "file_extension": ".py",
   "mimetype": "text/x-python",
   "name": "python",
   "nbconvert_exporter": "python",
   "pygments_lexer": "ipython3",
   "version": "3.10.9"
  }
 },
 "nbformat": 4,
 "nbformat_minor": 5
}
